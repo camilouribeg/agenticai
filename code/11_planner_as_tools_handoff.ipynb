{
 "cells": [
  {
   "cell_type": "code",
   "execution_count": 2,
   "id": "99c3a1c0",
   "metadata": {},
   "outputs": [],
   "source": [
    "from dotenv import load_dotenv\n",
    "from IPython.display import display, Markdown, HTML\n",
    "from pydantic import BaseModel, Field\n",
    "from typing import List, Dict, Any, Optional, Callable, Union\n",
    "from typing  import Literal\n",
    "from agents import (\n",
    "\n",
    "    Agent,\n",
    "    Runner,\n",
    "    RunConfig,\n",
    "    trace,\n",
    "    ItemHelpers,\n",
    "    TResponseInputItem,\n",
    "    function_tool,\n",
    "    FunctionTool,\n",
    "    handoff,\n",
    "    ModelSettings\n",
    ")\n",
    "load_dotenv()\n",
    "\n",
    "from helpers.trace_util import get_trace_url\n",
    "from agents.extensions.visualization import draw_graph\n",
    "\n",
    "import json\n",
    "import random"
   ]
  },
  {
   "cell_type": "code",
   "execution_count": 3,
   "id": "f64844c6",
   "metadata": {},
   "outputs": [],
   "source": [
    "from helpers.model_client import (\n",
    "    get_openai_client,\n",
    "    get_github_model_provider\n",
    ")\n",
    "\n",
    "model_name = \"gpt-4o-mini\"\n",
    "\n",
    "GITHUB_MODEL_PROVIDER = get_github_model_provider(\n",
    "    client = get_openai_client(),\n",
    "    model = model_name\n",
    ")\n"
   ]
  },
  {
   "cell_type": "code",
   "execution_count": 4,
   "id": "fcae5e00",
   "metadata": {},
   "outputs": [],
   "source": [
    "\n",
    "class StockData(BaseModel):\n",
    "    \"\"\"Model for stock data\"\"\"\n",
    "    price: float = Field(..., description=\"Current stock price\")\n",
    "    volume: int = Field(..., description=\"Trading volume\")\n",
    "    pe_ratio: float = Field(..., description=\"Price-to-earnings ratio\")\n",
    "    market_cap: str = Field(..., description=\"Market capitalization\")\n",
    "\n",
    "@function_tool\n",
    "def get_stock_data(symbol: str) -> StockData:\n",
    "    \"\"\"Get stock market data for a given symbol\"\"\"\n",
    "    return StockData(**{\"price\": 180.25, \"volume\": 1000000, \"pe_ratio\": 65.4, \"market_cap\": \"700B\"})\n",
    "\n",
    "class NewsItem(BaseModel):\n",
    "    \"\"\"Model for news items\"\"\"\n",
    "    title: str = Field(..., description=\"Title of the news article\")\n",
    "    date: str = Field(..., description=\"Publication date\")\n",
    "    summary: str = Field(..., description=\"Summary of the article\")\n",
    "\n",
    "@function_tool\n",
    "def get_news(query: str) -> List[NewsItem]:\n",
    "    \"\"\"Get recent news articles about a company\"\"\"\n",
    "    return [\n",
    "        NewsItem(**\n",
    "        {\n",
    "            \"title\": \"Tesla Expands Cybertruck Production\",\n",
    "            \"date\": \"2024-03-20\",\n",
    "            \"summary\": \"Tesla ramps up Cybertruck manufacturing capacity at Gigafactory Texas, aiming to meet strong demand.\",\n",
    "        }),\n",
    "        NewsItem(**\n",
    "        {\n",
    "            \"title\": \"Tesla's Q1 Earnings Report\",\n",
    "            \"date\": \"2024-03-21\",\n",
    "            \"summary\": \"Analysts predict strong earnings for Tesla in the upcoming quarterly report, driven by record deliveries.\",\n",
    "        }),\n",
    "        NewsItem(**\n",
    "        {\n",
    "            \"title\": \"Tesla Partners with Panasonic\",\n",
    "            \"date\": \"2024-03-22\",\n",
    "            \"summary\": \"Tesla and Panasonic announce a new partnership to enhance battery technology for electric vehicles.\",\n",
    "        }),\n",
    "        NewsItem(**\n",
    "        {\n",
    "            \"title\": \"Tesla Model S Plaid Review\",\n",
    "            \"date\": \"2024-03-23\",\n",
    "            \"summary\": \"The Tesla Model S Plaid receives rave reviews for its performance and technology features.\",\n",
    "        }),\n",
    "        NewsItem(**\n",
    "        {\n",
    "            \"title\": \"Tesla's Energy Division Grows\",\n",
    "            \"date\": \"2024-03-24\",\n",
    "            \"summary\": \"Tesla's energy division sees significant growth in solar and battery storage solutions.\",\n",
    "        }),\n",
    "        NewsItem(**\n",
    "        {\n",
    "            \"title\": \"Tesla's Global Expansion Plans\",\n",
    "            \"date\": \"2024-03-25\",\n",
    "            \"summary\": \"Tesla announces plans to expand its manufacturing footprint in Europe and Asia.\",\n",
    "        }),\n",
    "        NewsItem(**\n",
    "        {\n",
    "            \"title\": \"Tesla's Autopilot Update\",\n",
    "            \"date\": \"2024-03-26\",\n",
    "            \"summary\": \"Tesla releases a new update for its Autopilot system, improving safety and navigation features.\",\n",
    "        }),\n",
    "        NewsItem(**\n",
    "        {\n",
    "            \"title\": \"Tesla's Stock Performance\",\n",
    "            \"date\": \"2024-03-27\",\n",
    "            \"summary\": \"Tesla's stock shows strong performance in the market, driven by positive investor sentiment.\",\n",
    "        }),\n",
    "        NewsItem(**\n",
    "        {\n",
    "            \"title\": \"Tesla's Sustainability Initiatives\",\n",
    "            \"date\": \"2024-03-28\",\n",
    "            \"summary\": \"Tesla announces new sustainability initiatives aimed at reducing carbon footprint.\",\n",
    "        }),\n",
    "        NewsItem(**\n",
    "        {\n",
    "            \"title\": \"Tesla's Cybertruck Launch Date Announced\",\n",
    "            \"date\": \"2024-03-29\",\n",
    "            \"summary\": \"Tesla announces the official launch date for the highly anticipated Cybertruck.\",\n",
    "        }),\n",
    "        NewsItem(**\n",
    "        {\n",
    "            \"title\": \"Tesla's AI Day 2024 Highlights\",\n",
    "            \"date\": \"2024-03-30\",\n",
    "            \"summary\": \"Tesla's AI Day showcases advancements in artificial intelligence and robotics.\",\n",
    "        }),\n",
    "        NewsItem(**\n",
    "        {\n",
    "            \"title\": \"Tesla's Supercharger Network Expansion\",\n",
    "            \"date\": \"2024-03-31\",\n",
    "            \"summary\": \"Tesla announces plans to expand its Supercharger network across North America.\",\n",
    "        }),\n",
    "        NewsItem(**\n",
    "        {\n",
    "            \"title\": \"Tesla's Model 3 Production Update\",\n",
    "            \"date\": \"2024-03-17\",\n",
    "            \"summary\": \"Tesla increases production capacity for the Model 3 to meet growing demand.\",\n",
    "        }),\n",
    "        NewsItem(**\n",
    "        {\n",
    "            \"title\": \"Tesla FSD Beta Shows Promise\",\n",
    "            \"date\": \"2024-03-19\",\n",
    "            \"summary\": \"Latest Full Self-Driving beta demonstrates significant improvements in urban navigation and safety features.\",\n",
    "        }),\n",
    "        NewsItem(**\n",
    "        {\n",
    "            \"title\": \"Model Y Dominates Global EV Sales\",\n",
    "            \"date\": \"2024-03-18\",\n",
    "            \"summary\": \"Tesla's Model Y becomes best-selling electric vehicle worldwide, capturing significant market share.\",\n",
    "        }),\n",
    "    ]\n",
    "\n",
    "class Refund(BaseModel):\n",
    "    flight_id: str = Field(..., description=\"Flight ID\")\n",
    "    amount: float = Field(..., description=\"Refund amount\")\n",
    "\n"
   ]
  },
  {
   "cell_type": "code",
   "execution_count": 5,
   "id": "dbc82838",
   "metadata": {},
   "outputs": [
    {
     "name": "stdout",
     "output_type": "stream",
     "text": [
      "price=180.25 volume=1000000 pe_ratio=65.4 market_cap='700B'\n",
      "[NewsItem(title='Tesla Expands Cybertruck Production', date='2024-03-20', summary='Tesla ramps up Cybertruck manufacturing capacity at Gigafactory Texas, aiming to meet strong demand.'), NewsItem(title=\"Tesla's Q1 Earnings Report\", date='2024-03-21', summary='Analysts predict strong earnings for Tesla in the upcoming quarterly report, driven by record deliveries.'), NewsItem(title='Tesla Partners with Panasonic', date='2024-03-22', summary='Tesla and Panasonic announce a new partnership to enhance battery technology for electric vehicles.'), NewsItem(title='Tesla Model S Plaid Review', date='2024-03-23', summary='The Tesla Model S Plaid receives rave reviews for its performance and technology features.'), NewsItem(title=\"Tesla's Energy Division Grows\", date='2024-03-24', summary=\"Tesla's energy division sees significant growth in solar and battery storage solutions.\"), NewsItem(title=\"Tesla's Global Expansion Plans\", date='2024-03-25', summary='Tesla announces plans to expand its manufacturing footprint in Europe and Asia.'), NewsItem(title=\"Tesla's Autopilot Update\", date='2024-03-26', summary='Tesla releases a new update for its Autopilot system, improving safety and navigation features.'), NewsItem(title=\"Tesla's Stock Performance\", date='2024-03-27', summary=\"Tesla's stock shows strong performance in the market, driven by positive investor sentiment.\"), NewsItem(title=\"Tesla's Sustainability Initiatives\", date='2024-03-28', summary='Tesla announces new sustainability initiatives aimed at reducing carbon footprint.'), NewsItem(title=\"Tesla's Cybertruck Launch Date Announced\", date='2024-03-29', summary='Tesla announces the official launch date for the highly anticipated Cybertruck.'), NewsItem(title=\"Tesla's AI Day 2024 Highlights\", date='2024-03-30', summary=\"Tesla's AI Day showcases advancements in artificial intelligence and robotics.\"), NewsItem(title=\"Tesla's Supercharger Network Expansion\", date='2024-03-31', summary='Tesla announces plans to expand its Supercharger network across North America.'), NewsItem(title=\"Tesla's Model 3 Production Update\", date='2024-03-17', summary='Tesla increases production capacity for the Model 3 to meet growing demand.'), NewsItem(title='Tesla FSD Beta Shows Promise', date='2024-03-19', summary='Latest Full Self-Driving beta demonstrates significant improvements in urban navigation and safety features.'), NewsItem(title='Model Y Dominates Global EV Sales', date='2024-03-18', summary=\"Tesla's Model Y becomes best-selling electric vehicle worldwide, capturing significant market share.\")]\n"
     ]
    }
   ],
   "source": [
    "stockdata = await get_stock_data.on_invoke_tool(None, json.dumps({\"symbol\": \"TSLA\"}))\n",
    "print(stockdata)\n",
    "news = await get_news.on_invoke_tool(None, json.dumps({\"query\": \"Tesla\"}))\n",
    "print(news)\n"
   ]
  },
  {
   "cell_type": "code",
   "execution_count": 6,
   "id": "5319034e",
   "metadata": {},
   "outputs": [
    {
     "name": "stdout",
     "output_type": "stream",
     "text": [
      "An error occurred: failed to execute WindowsPath('dot'), make sure the Graphviz executables are on your systems' PATH\n"
     ]
    }
   ],
   "source": [
    "financial_analyst = Agent(\n",
    "    name=\"financial_analyst\",\n",
    "    model=model_name,\n",
    "    tools=[get_stock_data],\n",
    "    output_type=StockData,\n",
    "    instructions=\"\"\"You are a financial analyst.\n",
    "    Analyze stock market data using the get_stock_data tool.\n",
    "    Provide insights on financial metrics.\n",
    "    ### IMPORTANT ###\n",
    "    Always handoff back to planner when analysis is complete.\"\"\",\n",
    "    handoff_description=\"\"\"You are a financial analyst.\n",
    "    You perform analysis of the stock market data.\n",
    "    you must handoff back to the planner agent.\"\"\"\n",
    ")\n",
    "\n",
    "\n",
    "news_analyst = Agent(\n",
    "    name=\"news_analyst\",\n",
    "    model=model_name,\n",
    "    tools=[get_news],\n",
    "    output_type=List[NewsItem],\n",
    "    instructions=\"\"\"You are a news analyst.\n",
    "    Gather and analyze relevant news using the get_news tool.\n",
    "    Summarize key market insights from news.\n",
    "    Always handoff back to planner when analysis is complete.\"\"\",\n",
    "    handoff_description=\"\"\"You are a news analyst.\n",
    "    You retrieve news articles to analyze.\n",
    "    you must handoff back to the planner agent.\"\"\",\n",
    "\n",
    ")\n",
    "\n",
    "\n",
    "writer = Agent(\n",
    "    name=\"writer\",\n",
    "    model=model_name,\n",
    "    tools=[],\n",
    "    output_type=str,\n",
    "    instructions=\"\"\"You are a financial report writer.\n",
    "    Compile research findings into clear, concise reports.\n",
    "    The report should be easy to understand for a general audience.\n",
    "    The report is formatted as a markdown document.\n",
    "    Always handoff back to planner when writing is complete.\"\"\",\n",
    "    handoff_description=\"\"\"You are a writer.\n",
    "    You summary a summary of the analysis results.\n",
    "    you must handoff back to the planner agent.\"\"\"\n",
    ")\n",
    "\n",
    "\n",
    "\n",
    "try:\n",
    "    draw_graph(financial_analyst, filename=\"viz/11_planner_financial_analyst.gv\")\n",
    "except Exception as e:\n",
    "    print(f\"An error occurred: {e}\")"
   ]
  },
  {
   "cell_type": "code",
   "execution_count": 7,
   "id": "c79c0540",
   "metadata": {},
   "outputs": [],
   "source": [
    "msg = \"what is the TSLA stock, write a report\"\n",
    "input_items : list[TResponseInputItem] = [{\"content\" : msg, \"role\": \"user\"}]"
   ]
  },
  {
   "cell_type": "code",
   "execution_count": 8,
   "id": "21f71b71",
   "metadata": {},
   "outputs": [],
   "source": [
    "# with trace(workflow_name=\"financial_analyst\", group_id=\"mdsi\") as tr:\n",
    "#     print(f\"Tracing url: {get_trace_url(tr)}\")\n",
    "\n",
    "#     result = await Runner.run(\n",
    "#         financial_analyst,\n",
    "#         input=input_items,\n",
    "#         run_config=RunConfig(\n",
    "#             model=model_name,\n",
    "#             model_provider=GITHUB_MODEL_PROVIDER\n",
    "#         )\n",
    "\n",
    "#     )\n",
    "\n",
    "#     print(result)"
   ]
  },
  {
   "cell_type": "code",
   "execution_count": 9,
   "id": "7f99f8ad",
   "metadata": {},
   "outputs": [
    {
     "name": "stdout",
     "output_type": "stream",
     "text": [
      "An error occurred: failed to execute WindowsPath('dot'), make sure the Graphviz executables are on your systems' PATH\n",
      "An error occurred: failed to execute WindowsPath('dot'), make sure the Graphviz executables are on your systems' PATH\n"
     ]
    }
   ],
   "source": [
    "planner_assistant = Agent(\n",
    "    name=\"planner\",\n",
    "    model=model_name,\n",
    "    handoffs=[financial_analyst,news_analyst, writer],\n",
    "    instructions=\"\"\"You are a research planning coordinator.\n",
    "    Coordinate market research by delegating to specialized agents:\n",
    "    - Financial Analyst: For stock data analysis\n",
    "    - News Analyst: For news gathering and analysis\n",
    "    - Writer: For compiling final report\n",
    "    Always send your plan first, then handoff to appropriate agent.\n",
    "    Always handoff to a single agent at a time.\n",
    "    Use TERMINATE when research is complete.\"\"\",\n",
    "    handoff_description=\"\"\"You are a research planning coordinator.\n",
    "    Coordinate market research by delegating to specialized agents\n",
    "    you are responsible for generating the final output.,\n",
    "    \"\"\",\n",
    "\n",
    ")\n",
    "\n",
    "planner_assistant.handoffs = [writer]\n",
    "planner_assistant.tools = [\n",
    "    financial_analyst.as_tool(\n",
    "        tool_name=\"financial_analyst\",\n",
    "        tool_description=\"Analyze stock market data using the get_stock_data tool. Provide insights on financial metrics.\"\n",
    "    ),\n",
    "    news_analyst.as_tool(\n",
    "        tool_name=\"news_analyst\",\n",
    "        tool_description=\"Gather and analyze relevant news using the get_news tool. Summarize key market insights from news.\"\n",
    "    ),\n",
    "\n",
    "]\n",
    "# financial_analyst.handoffs = [handoff(planner_assistant)]\n",
    "# news_analyst.handoffs = [handoff(planner_assistant)]\n",
    "# writer.handoffs = [handoff(planner_assistant)]\n",
    "\n",
    "try:\n",
    "    draw_graph(planner_assistant, filename=\"viz/11_planner_financial_planner_as_tools.gv\")\n",
    "except Exception as e:\n",
    "    print(f\"An error occurred: {e}\")\n",
    "\n",
    "try:\n",
    "    draw_graph(writer, filename=\"viz/11_planner_writer.gv\")\n",
    "except Exception as e:\n",
    "    print(f\"An error occurred: {e}\")"
   ]
  },
  {
   "cell_type": "code",
   "execution_count": 10,
   "id": "a1f39022",
   "metadata": {},
   "outputs": [
    {
     "name": "stdout",
     "output_type": "stream",
     "text": [
      "Tracing url: https://platform.openai.com/traces/trace?trace_id=trace_403faa73e3a14b80893d64b8b0db5547\n"
     ]
    },
    {
     "name": "stdout",
     "output_type": "stream",
     "text": [
      "RunResult:\n",
      "- Last agent: Agent(name=\"writer\", ...)\n",
      "- Final output (str):\n",
      "    # Tesla, Inc. (TSLA) Stock Report\n",
      "    \n",
      "    ## Overview\n",
      "    Tesla, Inc. (NASDAQ: TSLA) is a leading electric vehicle and clean energy company known for its innovative technology and expanding product line. As of the latest available data, the stock price stands at **$180.25**, with a market capitalization of **$700 billion**. The company's trading volume has reached approximately **1,000,000 shares**, and it has a Price-to-Earnings (P/E) ratio of **65.4**, indicating a high valuation compared to earnings.\n",
      "    \n",
      "    ## Recent News Highlights\n",
      "    Tesla has been in the news recently for several significant developments that may impact its stock performance and investor sentiment:\n",
      "    \n",
      "    1. **Cybertruck Production Expansion**: Tesla is increasing production capacity for its Cybertruck at Gigafactory Texas in response to expected strong demand.\n",
      "    \n",
      "    2. **Positive Earnings Forecast**: Analysts anticipate strong earnings in Tesla's upcoming quarterly report, driven by record vehicle deliveries.\n",
      "    \n",
      "    3. **Partnership with Panasonic**: The company is enhancing its battery technology through a new partnership with Panasonic, which could further improve the performance of its electric vehicles.\n",
      "    \n",
      "    4. **Model S Plaid Reviews**: The Tesla Model S Plaid has received excellent reviews for its performance and advanced features, enhancing the brand's reputation.\n",
      "    \n",
      "    5. **Growth in Energy Sector**: Tesla's energy division is experiencing significant growth, particularly in solar energy and battery storage solutions, which are important for the company's diversification.\n",
      "    \n",
      "    6. **Global Expansion**: Tesla is planning to expand its manufacturing presence in Europe and Asia, likely aiming to capture more of the global EV market.\n",
      "    \n",
      "    7. **Autopilot Features Update**: The recent update to Tesla's Autopilot system has improved safety and navigation features, contributing to its competitive edge in autonomous driving technology.\n",
      "    \n",
      "    8. **Stock Performance Trends**: The stock has shown a positive performance recently, buoyed by optimistic investor sentiment following these developments.\n",
      "    \n",
      "    9. **Sustainability Initiatives**: Tesla has announced new sustainability initiatives aimed at further reducing its carbon footprint, aligning with its mission to promote clean energy.\n",
      "    \n",
      "    10. **Upcoming Cybertruck Launch**: The highly anticipated launch date for the Cybertruck has been officially announced, which is expected to generate significant consumer interest.\n",
      "    \n",
      "    11. **AI Day 2024**: Tesla's AI Day showcased new advancements in artificial intelligence and robotics, emphasizing the company's focus on integrating cutting-edge technology into its products.\n",
      "    \n",
      "    12. **Supercharger Network Expansion**: Plans for expanding Tesla's Supercharger network across North America have been revealed, enhancing the convenience of owning a Tesla vehicle.\n",
      "    \n",
      "    13. **Model 3 Production Increase**: Production capacity for the Model 3 has been increased to meet growing consumer demand.\n",
      "    \n",
      "    14. **FSD Beta Improvements**: The latest update to the Full Self-Driving (FSD) beta program has demonstrated substantial improvements, particularly in urban navigation.\n",
      "    \n",
      "    15. **Model Y Sales Success**: Tesla's Model Y has become the best-selling electric vehicle globally, indicating strong market penetration.\n",
      "    \n",
      "    ## Conclusion\n",
      "    Tesla, Inc. continues to show promise with robust growth strategies, innovative technology, and a solid market presence. Investors should closely monitor upcoming earnings reports and major product launches, as these factors will likely influence the stock's performance in the near future.\n",
      "    \n",
      "    ---\n",
      "    \n",
      "    This report on Tesla, Inc. (TSLA) has been compiled for your understanding. Please make sure to review the contents thoroughly, and let me know if you require any additional information. \n",
      "- 10 new item(s)\n",
      "- 4 raw response(s)\n",
      "- 0 input guardrail result(s)\n",
      "- 0 output guardrail result(s)\n",
      "(See `RunResult` for more details)\n"
     ]
    }
   ],
   "source": [
    "with trace(workflow_name=\"financial_planner\", group_id=\"financial_planner\") as tr:\n",
    "    print(f\"Tracing url: {get_trace_url(tr)}\")\n",
    "\n",
    "    result = await Runner.run(\n",
    "        planner_assistant,\n",
    "        input=input_items,\n",
    "        run_config=RunConfig(\n",
    "            model=model_name,\n",
    "            model_provider=GITHUB_MODEL_PROVIDER,\n",
    "            model_settings=ModelSettings(**{\n",
    "                # \"temperature\": 0.5,\n",
    "                \"max_tokens\": 5000,\n",
    "                # \"top_p\": 1.0,\n",
    "                # \"frequency_penalty\": 0.0,\n",
    "                # \"presence_penalty\": 0.0,\n",
    "                # \"stop\": [\"\\n\\n\"]\n",
    "                }, # Adjust the model settings as needed\n",
    "        )\n",
    "        )\n",
    "\n",
    "\n",
    "    )\n",
    "\n",
    "    print(result)"
   ]
  },
  {
   "cell_type": "code",
   "execution_count": 11,
   "id": "b2af6523",
   "metadata": {},
   "outputs": [
    {
     "name": "stdout",
     "output_type": "stream",
     "text": [
      "None\n"
     ]
    }
   ],
   "source": [
    "print(result.last_agent.model_settings.max_tokens)"
   ]
  },
  {
   "cell_type": "code",
   "execution_count": 12,
   "id": "1ae5337a",
   "metadata": {},
   "outputs": [
    {
     "data": {
      "text/plain": [
       "ModelSettings(temperature=None, top_p=None, frequency_penalty=None, presence_penalty=None, tool_choice=None, parallel_tool_calls=None, truncation=None, max_tokens=None, reasoning=None, metadata=None, store=None)"
      ]
     },
     "execution_count": 12,
     "metadata": {},
     "output_type": "execute_result"
    }
   ],
   "source": [
    "planner_assistant.model_settings"
   ]
  },
  {
   "cell_type": "code",
   "execution_count": 13,
   "id": "0618a09f",
   "metadata": {},
   "outputs": [
    {
     "data": {
      "text/plain": [
       "Usage(requests=1, input_tokens=1447, output_tokens=707, total_tokens=2154)"
      ]
     },
     "execution_count": 13,
     "metadata": {},
     "output_type": "execute_result"
    }
   ],
   "source": [
    "result.raw_responses[-1].usage"
   ]
  },
  {
   "cell_type": "code",
   "execution_count": 14,
   "id": "de8ad93a",
   "metadata": {},
   "outputs": [
    {
     "data": {
      "text/markdown": [
       "# Tesla, Inc. (TSLA) Stock Report\n",
       "\n",
       "## Overview\n",
       "Tesla, Inc. (NASDAQ: TSLA) is a leading electric vehicle and clean energy company known for its innovative technology and expanding product line. As of the latest available data, the stock price stands at **$180.25**, with a market capitalization of **$700 billion**. The company's trading volume has reached approximately **1,000,000 shares**, and it has a Price-to-Earnings (P/E) ratio of **65.4**, indicating a high valuation compared to earnings.\n",
       "\n",
       "## Recent News Highlights\n",
       "Tesla has been in the news recently for several significant developments that may impact its stock performance and investor sentiment:\n",
       "\n",
       "1. **Cybertruck Production Expansion**: Tesla is increasing production capacity for its Cybertruck at Gigafactory Texas in response to expected strong demand.\n",
       "\n",
       "2. **Positive Earnings Forecast**: Analysts anticipate strong earnings in Tesla's upcoming quarterly report, driven by record vehicle deliveries.\n",
       "\n",
       "3. **Partnership with Panasonic**: The company is enhancing its battery technology through a new partnership with Panasonic, which could further improve the performance of its electric vehicles.\n",
       "\n",
       "4. **Model S Plaid Reviews**: The Tesla Model S Plaid has received excellent reviews for its performance and advanced features, enhancing the brand's reputation.\n",
       "\n",
       "5. **Growth in Energy Sector**: Tesla's energy division is experiencing significant growth, particularly in solar energy and battery storage solutions, which are important for the company's diversification.\n",
       "\n",
       "6. **Global Expansion**: Tesla is planning to expand its manufacturing presence in Europe and Asia, likely aiming to capture more of the global EV market.\n",
       "\n",
       "7. **Autopilot Features Update**: The recent update to Tesla's Autopilot system has improved safety and navigation features, contributing to its competitive edge in autonomous driving technology.\n",
       "\n",
       "8. **Stock Performance Trends**: The stock has shown a positive performance recently, buoyed by optimistic investor sentiment following these developments.\n",
       "\n",
       "9. **Sustainability Initiatives**: Tesla has announced new sustainability initiatives aimed at further reducing its carbon footprint, aligning with its mission to promote clean energy.\n",
       "\n",
       "10. **Upcoming Cybertruck Launch**: The highly anticipated launch date for the Cybertruck has been officially announced, which is expected to generate significant consumer interest.\n",
       "\n",
       "11. **AI Day 2024**: Tesla's AI Day showcased new advancements in artificial intelligence and robotics, emphasizing the company's focus on integrating cutting-edge technology into its products.\n",
       "\n",
       "12. **Supercharger Network Expansion**: Plans for expanding Tesla's Supercharger network across North America have been revealed, enhancing the convenience of owning a Tesla vehicle.\n",
       "\n",
       "13. **Model 3 Production Increase**: Production capacity for the Model 3 has been increased to meet growing consumer demand.\n",
       "\n",
       "14. **FSD Beta Improvements**: The latest update to the Full Self-Driving (FSD) beta program has demonstrated substantial improvements, particularly in urban navigation.\n",
       "\n",
       "15. **Model Y Sales Success**: Tesla's Model Y has become the best-selling electric vehicle globally, indicating strong market penetration.\n",
       "\n",
       "## Conclusion\n",
       "Tesla, Inc. continues to show promise with robust growth strategies, innovative technology, and a solid market presence. Investors should closely monitor upcoming earnings reports and major product launches, as these factors will likely influence the stock's performance in the near future.\n",
       "\n",
       "---\n",
       "\n",
       "This report on Tesla, Inc. (TSLA) has been compiled for your understanding. Please make sure to review the contents thoroughly, and let me know if you require any additional information. "
      ],
      "text/plain": [
       "<IPython.core.display.Markdown object>"
      ]
     },
     "metadata": {},
     "output_type": "display_data"
    }
   ],
   "source": [
    "display(Markdown(result.final_output))"
   ]
  },
  {
   "cell_type": "code",
   "execution_count": 15,
   "id": "3942309f",
   "metadata": {},
   "outputs": [],
   "source": [
    "tr.finish()"
   ]
  },
  {
   "cell_type": "code",
   "execution_count": 16,
   "id": "81507a8e",
   "metadata": {},
   "outputs": [],
   "source": [
    "mm = GITHUB_MODEL_PROVIDER.get_model(model_name)\n"
   ]
  },
  {
   "cell_type": "code",
   "execution_count": 17,
   "id": "f3bf08b1",
   "metadata": {},
   "outputs": [
    {
     "ename": "SyntaxError",
     "evalue": "invalid syntax (1051154210.py, line 1)",
     "output_type": "error",
     "traceback": [
      "\u001b[1;36m  Cell \u001b[1;32mIn[17], line 1\u001b[1;36m\u001b[0m\n\u001b[1;33m    mm.\u001b[0m\n\u001b[1;37m       ^\u001b[0m\n\u001b[1;31mSyntaxError\u001b[0m\u001b[1;31m:\u001b[0m invalid syntax\n"
     ]
    }
   ],
   "source": [
    "mm."
   ]
  },
  {
   "cell_type": "code",
   "execution_count": null,
   "id": "108affbf",
   "metadata": {},
   "outputs": [],
   "source": []
  }
 ],
 "metadata": {
  "kernelspec": {
   "display_name": "ai_env",
   "language": "python",
   "name": "python3"
  },
  "language_info": {
   "codemirror_mode": {
    "name": "ipython",
    "version": 3
   },
   "file_extension": ".py",
   "mimetype": "text/x-python",
   "name": "python",
   "nbconvert_exporter": "python",
   "pygments_lexer": "ipython3",
   "version": "3.10.16"
  }
 },
 "nbformat": 4,
 "nbformat_minor": 5
}

{
 "cells": [
  {
   "cell_type": "code",
   "execution_count": null,
   "id": "9bb277cf",
   "metadata": {},
   "outputs": [
    {
     "data": {
      "text/plain": [
       "True"
      ]
     },
     "execution_count": 1,
     "metadata": {},
     "output_type": "execute_result"
    },
    {
     "name": "stderr",
     "output_type": "stream",
     "text": [
      "OPENAI_API_KEY is not set, skipping trace export\n",
      "OPENAI_API_KEY is not set, skipping trace export\n",
      "OPENAI_API_KEY is not set, skipping trace export\n",
      "OPENAI_API_KEY is not set, skipping trace export\n"
     ]
    }
   ],
   "source": [
    "import os\n",
    "from dotenv import load_dotenv\n",
    "from openai import AsyncOpenAI\n",
    "from agents import (\n",
    "    Agent,\n",
    "    Runner,\n",
    "    OpenAIChatCompletionsModel,\n",
    "    ModelProvider,\n",
    "    Model,\n",
    "    RunConfig,\n",
    "    set_default_openai_client,\n",
    "    set_default_openai_api,\n",
    "    set_tracing_disabled,\n",
    "    function_tool,\n",
    ")\n",
    "load_dotenv()"
   ]
  },
  {
   "cell_type": "code",
   "execution_count": 2,
   "id": "fc9cfd42",
   "metadata": {},
   "outputs": [],
   "source": [
    "client = AsyncOpenAI(\n",
    "    base_url=\"https://models.inference.ai.azure.com\",\n",
    "    api_key=os.environ[\"GITHUB_TOKEN\"],\n",
    ")\n"
   ]
  },
  {
   "cell_type": "code",
   "execution_count": 7,
   "id": "2372a2e0",
   "metadata": {},
   "outputs": [],
   "source": [
    "model = \"gpt-4o-mini\"\n",
    "\n",
    "class GitHubModelProvider(ModelProvider):\n",
    "    def get_model(self, model_name) -> Model:\n",
    "        return OpenAIChatCompletionsModel(model=model_name, openai_client=client)\n",
    "\n",
    "GITHUB_MODEL_PROVIDER = GitHubModelProvider()"
   ]
  },
  {
   "cell_type": "code",
   "execution_count": 8,
   "id": "d7987428",
   "metadata": {},
   "outputs": [],
   "source": [
    "agent = Agent(\n",
    "    name=\"Assistant\",\n",
    "    instructions=\"Answer the user's questions.\",\n",
    ")"
   ]
  },
  {
   "cell_type": "markdown",
   "id": "b4a03b75",
   "metadata": {},
   "source": [
    "Use the Runner class to execute the agent \n",
    "\n",
    "read the final output for the result of the agent run"
   ]
  },
  {
   "cell_type": "code",
   "execution_count": 9,
   "id": "d3586aa7",
   "metadata": {},
   "outputs": [
    {
     "name": "stdout",
     "output_type": "stream",
     "text": [
      "Why did the scarecrow win an award? \n",
      "\n",
      "Because he was outstanding in his field!\n"
     ]
    }
   ],
   "source": [
    "# https://github.com/openai/openai-agents-python/blob/main/examples/model_providers/custom_example_provider.py\n",
    "\n",
    "result = await Runner.run(\n",
    "    agent,\n",
    "    \"Tell me a joke?\",\n",
    "    run_config=RunConfig(model_provider=GITHUB_MODEL_PROVIDER, model=model),\n",
    ")\n",
    "\n",
    "print(result.final_output)"
   ]
  },
  {
   "cell_type": "code",
   "execution_count": null,
   "id": "ccc3f748",
   "metadata": {},
   "outputs": [],
   "source": []
  }
 ],
 "metadata": {
  "kernelspec": {
   "display_name": "ai_env",
   "language": "python",
   "name": "python3"
  },
  "language_info": {
   "codemirror_mode": {
    "name": "ipython",
    "version": 3
   },
   "file_extension": ".py",
   "mimetype": "text/x-python",
   "name": "python",
   "nbconvert_exporter": "python",
   "pygments_lexer": "ipython3",
   "version": "3.10.16"
  }
 },
 "nbformat": 4,
 "nbformat_minor": 5
}

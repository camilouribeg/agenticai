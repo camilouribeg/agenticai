{
 "cells": [
  {
   "cell_type": "code",
   "execution_count": 10,
   "id": "9bb277cf",
   "metadata": {},
   "outputs": [
    {
     "data": {
      "text/plain": [
       "True"
      ]
     },
     "execution_count": 10,
     "metadata": {},
     "output_type": "execute_result"
    }
   ],
   "source": [
    "import os\n",
    "from dotenv import load_dotenv\n",
    "from openai import AsyncOpenAI\n",
    "from agents import (\n",
    "    Agent,\n",
    "    Runner,\n",
    "    OpenAIChatCompletionsModel,\n",
    "    ModelProvider,\n",
    "    Model,\n",
    "    RunConfig,\n",
    "    set_default_openai_client,\n",
    "    set_default_openai_api,\n",
    "    set_tracing_disabled,\n",
    "    function_tool,\n",
    ")\n",
    "load_dotenv()"
   ]
  },
  {
   "cell_type": "code",
   "execution_count": 11,
   "id": "fc9cfd42",
   "metadata": {},
   "outputs": [],
   "source": [
    "client = AsyncOpenAI(\n",
    "    base_url=\"https://models.inference.ai.azure.com\",\n",
    "    api_key=os.environ[\"GITHUB_TOKEN\"],\n",
    ")\n"
   ]
  },
  {
   "cell_type": "code",
   "execution_count": 12,
   "id": "2372a2e0",
   "metadata": {},
   "outputs": [],
   "source": [
    "model = \"gpt-4o-mini\"\n",
    "\n",
    "class GitHubModelProvider(ModelProvider):\n",
    "    def get_model(self, model_name) -> Model:\n",
    "        return OpenAIChatCompletionsModel(model=model_name, openai_client=client)\n",
    "\n",
    "GITHUB_MODEL_PROVIDER = GitHubModelProvider()"
   ]
  },
  {
   "cell_type": "code",
   "execution_count": null,
   "id": "cad30a4d",
   "metadata": {},
   "outputs": [],
   "source": [
    "agent = Agent(\n",
    "    name=\"Assistant\",\n",
    "    instructions=\"Answer the user's questions.\",\n",
    ")"
   ]
  },
  {
   "cell_type": "markdown",
   "id": "b4a03b75",
   "metadata": {},
   "source": [
    "Use the Runner class to execute the agent.\n",
    "\n",
    "\n",
    "When using the run methond in the Runner, you pass in a starting _agent_ and _input_. \n",
    "The input can either be a string (which is considered a user message), or a list of input items, which are the items in the OpenAI Responses API.\n",
    "\n",
    "The runner then runs a loop:\n",
    "\n",
    "1. call the LLM for the current agent, with the current input.\n",
    "2. The LLM produces its output.\n",
    "   1.  If the **LLM returns a final_output**, the loop ends and we return the result.\n",
    "   2.  If the LLM does a handoff, we update the current agent and input, and re-run the loop.\n",
    "   3.  If the LLM produces tool calls, we run those tool calls, append the results, and re-run the loop.\n",
    "3. If we exceed the max_turns passed, we raise a MaxTurnsExceeded exception.\n",
    "\n",
    "\n",
    "The rule for whether the LLM output is considered as a \"final output\" is that it produces text output with the desired type, and there are no tool calls."
   ]
  },
  {
   "cell_type": "code",
   "execution_count": 9,
   "id": "d3586aa7",
   "metadata": {},
   "outputs": [
    {
     "name": "stdout",
     "output_type": "stream",
     "text": [
      "Why did the scarecrow win an award? \n",
      "\n",
      "Because he was outstanding in his field!\n"
     ]
    }
   ],
   "source": [
    "# https://github.com/openai/openai-agents-python/blob/main/examples/model_providers/custom_example_provider.py\n",
    "\n",
    "result = await Runner.run(\n",
    "    agent,\n",
    "    \"Tell me a joke?\",\n",
    "    run_config=RunConfig(model_provider=GITHUB_MODEL_PROVIDER, model=model),\n",
    ")\n",
    "\n",
    "print(result.final_output)"
   ]
  },
  {
   "cell_type": "code",
   "execution_count": null,
   "id": "ccc3f748",
   "metadata": {},
   "outputs": [],
   "source": []
  }
 ],
 "metadata": {
  "kernelspec": {
   "display_name": "ai_env",
   "language": "python",
   "name": "python3"
  },
  "language_info": {
   "codemirror_mode": {
    "name": "ipython",
    "version": 3
   },
   "file_extension": ".py",
   "mimetype": "text/x-python",
   "name": "python",
   "nbconvert_exporter": "python",
   "pygments_lexer": "ipython3",
   "version": "3.10.16"
  }
 },
 "nbformat": 4,
 "nbformat_minor": 5
}

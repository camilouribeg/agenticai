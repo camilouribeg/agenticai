{
 "cells": [
  {
   "cell_type": "markdown",
   "id": "983c3431",
   "metadata": {},
   "source": [
    "The tool agent goes off and runs on its own, and then returns the result to the original agent.\n",
    "\n",
    "references: \n",
    "- https://openai.github.io/openai-agents-python/tools/#agents-as-tools"
   ]
  },
  {
   "cell_type": "code",
   "execution_count": 1,
   "id": "9a44b056",
   "metadata": {},
   "outputs": [
    {
     "data": {
      "text/plain": [
       "True"
      ]
     },
     "execution_count": 1,
     "metadata": {},
     "output_type": "execute_result"
    }
   ],
   "source": [
    "from dotenv import load_dotenv\n",
    "from agents import (\n",
    "\n",
    "    Agent,\n",
    "    Runner,\n",
    "    RunConfig,\n",
    "    trace,\n",
    ")\n",
    "load_dotenv()"
   ]
  },
  {
   "cell_type": "code",
   "execution_count": 2,
   "id": "89c4b5c6",
   "metadata": {},
   "outputs": [],
   "source": [
    "from helpers.model_client import (\n",
    "    get_openai_client,\n",
    "    get_github_model_provider\n",
    ")\n",
    "\n",
    "model_name = \"gpt-4o-mini\"\n",
    "\n",
    "GITHUB_MODEL_PROVIDER = get_github_model_provider(\n",
    "    client = get_openai_client(),\n",
    "    model = model_name\n",
    ")\n"
   ]
  },
  {
   "cell_type": "markdown",
   "id": "1a9a0f19",
   "metadata": {},
   "source": [
    "## define agents"
   ]
  },
  {
   "cell_type": "code",
   "execution_count": 3,
   "id": "ad5944d8",
   "metadata": {},
   "outputs": [],
   "source": [
    "spanish_agent = Agent(\n",
    "    name=\"Spanish agent\",\n",
    "    instructions=\"You translate the user's message to Spanish\",\n",
    "    model=model_name,\n",
    "\n",
    ")\n",
    "\n",
    "french_agent = Agent(\n",
    "    name=\"French agent\",\n",
    "    instructions=\"You translate the user's message to French\",\n",
    "    model=model_name\n",
    ")\n",
    "\n",
    "orchestrator_agent = Agent(\n",
    "    name=\"orchestrator_agent\",\n",
    "    model=model_name,\n",
    "    instructions=(\n",
    "        \"You are a translation agent. You use the tools given to you to translate.\"\n",
    "        \"If asked for multiple translations, you call the relevant tools.\"\n",
    "        \"You only speak English. Do not translate the user's message yourself.\"\n",
    "        \"You can use the tools to translate the user's message.\"\n",
    "    ),\n",
    "    tools=[\n",
    "        spanish_agent.as_tool(\n",
    "            tool_name=\"translate_to_spanish\",\n",
    "            tool_description=\"Translate the user's message to Spanish\",\n",
    "        ),\n",
    "        french_agent.as_tool(\n",
    "            tool_name=\"translate_to_french\",\n",
    "            tool_description=\"Translate the user's message to French\",\n",
    "        ),\n",
    "    ],\n",
    ")"
   ]
  },
  {
   "cell_type": "markdown",
   "id": "ee8a41ac",
   "metadata": {},
   "source": [
    "## execute agents"
   ]
  },
  {
   "cell_type": "code",
   "execution_count": 4,
   "id": "2327bd30",
   "metadata": {},
   "outputs": [
    {
     "data": {
      "text/plain": [
       "'gpt-4o-mini'"
      ]
     },
     "execution_count": 4,
     "metadata": {},
     "output_type": "execute_result"
    }
   ],
   "source": [
    "orchestrator_agent.model"
   ]
  },
  {
   "cell_type": "code",
   "execution_count": 5,
   "id": "1ec3cfb8",
   "metadata": {},
   "outputs": [
    {
     "name": "stdout",
     "output_type": "stream",
     "text": [
      "The translation of \"Greetings\" is \"Salut\" in French and \"Saludos\" in Spanish. If you need the Arabic translation, please let me know!\n"
     ]
    }
   ],
   "source": [
    "try:\n",
    "    with trace(workflow_name=\"translation_agent_as_tools\", group_id=\"mdsi\") as tr:\n",
    "        result = await Runner.run(\n",
    "            orchestrator_agent,\n",
    "            \"Greetings in French and Arabic\",\n",
    "            run_config=RunConfig(model=model_name, model_provider=GITHUB_MODEL_PROVIDER),\n",
    "\n",
    "        )\n",
    "except Exception as e:\n",
    "    print(f\"Error: {e}\")\n",
    "\n",
    "\n",
    "print(result.final_output)\n"
   ]
  },
  {
   "cell_type": "code",
   "execution_count": 6,
   "id": "7093d8bd",
   "metadata": {},
   "outputs": [
    {
     "name": "stdout",
     "output_type": "stream",
     "text": [
      "Tracing URL: https://platform.openai.com/traces/trace?trace_id=trace_cec973ed3f334ea284ad338ff8ca2d99\n"
     ]
    }
   ],
   "source": [
    "tracing_url = f\"https://platform.openai.com/traces/trace?trace_id={tr.trace_id}\"\n",
    "\n",
    "print(f\"Tracing URL: {tracing_url}\")\n"
   ]
  },
  {
   "cell_type": "markdown",
   "id": "3440ec77",
   "metadata": {},
   "source": [
    "## Visualise the Agent"
   ]
  },
  {
   "cell_type": "code",
   "execution_count": 8,
   "id": "08f62d50",
   "metadata": {},
   "outputs": [
    {
     "name": "stdout",
     "output_type": "stream",
     "text": [
      "An error occurred: failed to execute WindowsPath('dot'), make sure the Graphviz executables are on your systems' PATH\n"
     ]
    }
   ],
   "source": [
    "from agents.extensions.visualization import draw_graph\n",
    "\n",
    "try:\n",
    "    draw_graph(orchestrator_agent, filename=\"viz/06_agent_as_tool.gv\")\n",
    "except Exception as e:\n",
    "    print(f\"An error occurred: {e}\")"
   ]
  },
  {
   "cell_type": "code",
   "execution_count": null,
   "id": "ab792e90",
   "metadata": {},
   "outputs": [],
   "source": []
  }
 ],
 "metadata": {
  "kernelspec": {
   "display_name": "ai_env",
   "language": "python",
   "name": "python3"
  },
  "language_info": {
   "codemirror_mode": {
    "name": "ipython",
    "version": 3
   },
   "file_extension": ".py",
   "mimetype": "text/x-python",
   "name": "python",
   "nbconvert_exporter": "python",
   "pygments_lexer": "ipython3",
   "version": "3.10.16"
  }
 },
 "nbformat": 4,
 "nbformat_minor": 5
}

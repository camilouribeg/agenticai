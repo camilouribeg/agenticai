{
 "cells": [
  {
   "cell_type": "markdown",
   "id": "983c3431",
   "metadata": {},
   "source": [
    "references: \n",
    "- https://openai.github.io/openai-agents-python/tools/#agents-as-tools"
   ]
  },
  {
   "cell_type": "code",
   "execution_count": 1,
   "id": "9a44b056",
   "metadata": {},
   "outputs": [
    {
     "data": {
      "text/plain": [
       "True"
      ]
     },
     "execution_count": 1,
     "metadata": {},
     "output_type": "execute_result"
    }
   ],
   "source": [
    "import os\n",
    "from pydantic import BaseModel, Field\n",
    "from dotenv import load_dotenv\n",
    "from openai import AsyncOpenAI, AsyncAzureOpenAI\n",
    "from agents import (\n",
    "\n",
    "    Agent,\n",
    "    Runner,\n",
    "    OpenAIChatCompletionsModel,\n",
    "    ModelProvider,\n",
    "    Model,\n",
    "    RunConfig,\n",
    "    set_default_openai_client,\n",
    "    set_default_openai_api,\n",
    "    set_tracing_disabled,\n",
    "    set_tracing_export_api_key,\n",
    "    trace,\n",
    "\n",
    "\n",
    "    function_tool,\n",
    ")\n",
    "load_dotenv()"
   ]
  },
  {
   "cell_type": "code",
   "execution_count": 2,
   "id": "89c4b5c6",
   "metadata": {},
   "outputs": [],
   "source": [
    "client = AsyncOpenAI(\n",
    "    base_url=\"https://models.inference.ai.azure.com\",\n",
    "    api_key=os.environ[\"GITHUB_TOKEN\"],\n",
    ")\n",
    "\n",
    "\n",
    "# client = AsyncAzureOpenAI(\n",
    "#     base_url=os.getenv(\"AZURE_OPENAI_ENDPOINT\"),\n",
    "#     # azure_deployment=\"gpt-4o\",\n",
    "#     api_version=\"2025-03-01-preview\",\n",
    "#     api_key=os.getenv(\"AZURE_OPENAI_API_KEY\")\n",
    "# )\n",
    "\n",
    "set_default_openai_client(client)\n",
    "set_default_openai_api(\n",
    "    ['chat_completions']\n",
    ")\n",
    "set_tracing_export_api_key(os.environ[\"OPENAI_TRACING_KEY\"])\n",
    "set_tracing_disabled(False)\n",
    "\n",
    "class GitHubModelProvider(ModelProvider):\n",
    "    def get_model(self, model_name) -> Model:\n",
    "        return OpenAIChatCompletionsModel(model=model_name, openai_client=client)\n",
    "\n",
    "\n",
    "\n",
    "GITHUB_MODEL_PROVIDER = GitHubModelProvider()\n",
    "\n",
    "\n",
    "\n",
    "# tr = trace(workflow_name=\"msdiagentic_hello_tracking\")"
   ]
  },
  {
   "cell_type": "markdown",
   "id": "1a9a0f19",
   "metadata": {},
   "source": [
    "## define agents"
   ]
  },
  {
   "cell_type": "code",
   "execution_count": 15,
   "id": "ad5944d8",
   "metadata": {},
   "outputs": [],
   "source": [
    "model_name = \"gpt-4o\"\n",
    "\n",
    "\n",
    "spanish_agent = Agent(\n",
    "    name=\"Spanish agent\",\n",
    "    instructions=\"You translate the user's message to Spanish\",\n",
    "    model=model_name,\n",
    "\n",
    ")\n",
    "\n",
    "french_agent = Agent(\n",
    "    name=\"French agent\",\n",
    "    instructions=\"You translate the user's message to French\",\n",
    "    model=model_name\n",
    ")\n",
    "\n",
    "orchestrator_agent = Agent(\n",
    "    name=\"orchestrator_agent\",\n",
    "    model=model_name,\n",
    "    instructions=(\n",
    "        \"You are a translation agent. You use the tools given to you to translate.\"\n",
    "        \"If asked for multiple translations, you call the relevant tools.\"\n",
    "        \"You only speak English. Do not translate the user's message yourself.\"\n",
    "        \"You can use the tools to translate the user's message.\"\n",
    "    ),\n",
    "    tools=[\n",
    "        spanish_agent.as_tool(\n",
    "            tool_name=\"translate_to_spanish\",\n",
    "            tool_description=\"Translate the user's message to Spanish\",\n",
    "        ),\n",
    "        french_agent.as_tool(\n",
    "            tool_name=\"translate_to_french\",\n",
    "            tool_description=\"Translate the user's message to French\",\n",
    "        ),\n",
    "    ],\n",
    ")"
   ]
  },
  {
   "cell_type": "markdown",
   "id": "ee8a41ac",
   "metadata": {},
   "source": [
    "## execute agents"
   ]
  },
  {
   "cell_type": "code",
   "execution_count": 16,
   "id": "2327bd30",
   "metadata": {},
   "outputs": [
    {
     "data": {
      "text/plain": [
       "'gpt-4o'"
      ]
     },
     "execution_count": 16,
     "metadata": {},
     "output_type": "execute_result"
    }
   ],
   "source": [
    "orchestrator_agent.model"
   ]
  },
  {
   "cell_type": "code",
   "execution_count": 17,
   "id": "1ec3cfb8",
   "metadata": {},
   "outputs": [
    {
     "name": "stdout",
     "output_type": "stream",
     "text": [
      "Error: Error code: 429 - {'error': {'code': 'RateLimitReached', 'message': 'Rate limit of 150 per 86400s exceeded for UserByModelByDay. Please wait 38187 seconds before retrying.', 'details': 'Rate limit of 150 per 86400s exceeded for UserByModelByDay. Please wait 38187 seconds before retrying.'}}\n",
      "I’m sorry, but I’m having trouble with the translation tool. Please try again later.\n"
     ]
    }
   ],
   "source": [
    "try:\n",
    "    with trace(workflow_name=\"translation_agent_as_tools\", group_id=\"mdsi\") as tr:\n",
    "        result = await Runner.run(\n",
    "            orchestrator_agent,\n",
    "            \"Say 'Hello, how are you?' in Spanish.\",\n",
    "            run_config=RunConfig(model=model_name, model_provider=GITHUB_MODEL_PROVIDER),\n",
    "\n",
    "        )\n",
    "except Exception as e:\n",
    "    print(f\"Error: {e}\")\n",
    "\n",
    "\n",
    "print(result.final_output)\n"
   ]
  },
  {
   "cell_type": "code",
   "execution_count": 18,
   "id": "7093d8bd",
   "metadata": {},
   "outputs": [
    {
     "name": "stdout",
     "output_type": "stream",
     "text": [
      "Tracing URL: https://platform.openai.com/traces/trace?trace_id=trace_fd64a901640244d19a1896af5b74feea\n"
     ]
    }
   ],
   "source": [
    "tracing_url = f\"https://platform.openai.com/traces/trace?trace_id={tr.trace_id}\"\n",
    "\n",
    "print(f\"Tracing URL: {tracing_url}\")\n"
   ]
  },
  {
   "cell_type": "markdown",
   "id": "3440ec77",
   "metadata": {},
   "source": [
    "## Visualise the Agent"
   ]
  },
  {
   "cell_type": "code",
   "execution_count": 22,
   "id": "08f62d50",
   "metadata": {},
   "outputs": [
    {
     "name": "stdout",
     "output_type": "stream",
     "text": [
      "An error occurred: failed to execute WindowsPath('dot'), make sure the Graphviz executables are on your systems' PATH\n"
     ]
    }
   ],
   "source": [
    "from agents.extensions.visualization import draw_graph\n",
    "\n",
    "try:\n",
    "    draw_graph(orchestrator_agent, filename=\"viz/06_agent_as_tool.gv\")\n",
    "except Exception as e:\n",
    "    print(f\"An error occurred: {e}\")"
   ]
  },
  {
   "cell_type": "code",
   "execution_count": null,
   "id": "dac07ff0",
   "metadata": {},
   "outputs": [],
   "source": []
  }
 ],
 "metadata": {
  "kernelspec": {
   "display_name": "ai_env",
   "language": "python",
   "name": "python3"
  },
  "language_info": {
   "codemirror_mode": {
    "name": "ipython",
    "version": 3
   },
   "file_extension": ".py",
   "mimetype": "text/x-python",
   "name": "python",
   "nbconvert_exporter": "python",
   "pygments_lexer": "ipython3",
   "version": "3.10.16"
  }
 },
 "nbformat": 4,
 "nbformat_minor": 5
}

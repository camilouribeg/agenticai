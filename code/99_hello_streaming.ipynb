{
 "cells": [
  {
   "cell_type": "markdown",
   "id": "a236605c",
   "metadata": {},
   "source": [
    "Chat Completion with streaming output"
   ]
  },
  {
   "cell_type": "markdown",
   "id": "3ec1d258",
   "metadata": {},
   "source": [
    "Agent with streaming Runner"
   ]
  },
  {
   "cell_type": "markdown",
   "id": "21570643",
   "metadata": {},
   "source": []
  },
  {
   "cell_type": "code",
   "execution_count": null,
   "id": "d838be8e",
   "metadata": {},
   "outputs": [],
   "source": []
  },
  {
   "cell_type": "code",
   "execution_count": 2,
   "id": "2a2c9b0a",
   "metadata": {},
   "outputs": [],
   "source": [
    "from helpers.model_client import get_openai_client, get_github_model_provider\n",
    "\n",
    "model_name = \"gpt-4o-mini\"\n",
    "\n",
    "GITHUB_MODEL_PROVIDER = get_github_model_provider(\n",
    "    client = get_openai_client(),\n",
    "    model = model_name\n",
    ")"
   ]
  },
  {
   "cell_type": "code",
   "execution_count": 21,
   "id": "194f896c",
   "metadata": {},
   "outputs": [],
   "source": [
    "from typing import List, Dict, Any, Optional"
   ]
  },
  {
   "cell_type": "code",
   "execution_count": 12,
   "id": "07ddb814",
   "metadata": {},
   "outputs": [],
   "source": [
    "ss : Dict[str, Any] = {}"
   ]
  },
  {
   "cell_type": "code",
   "execution_count": 13,
   "id": "e65e6fb8",
   "metadata": {},
   "outputs": [
    {
     "data": {
      "text/plain": [
       "{}"
      ]
     },
     "execution_count": 13,
     "metadata": {},
     "output_type": "execute_result"
    }
   ],
   "source": [
    "ss\n"
   ]
  },
  {
   "cell_type": "code",
   "execution_count": 16,
   "id": "69c022d9",
   "metadata": {},
   "outputs": [
    {
     "data": {
      "text/plain": [
       "2"
      ]
     },
     "execution_count": 16,
     "metadata": {},
     "output_type": "execute_result"
    }
   ],
   "source": [
    "ss.get(\"count\", 2)"
   ]
  },
  {
   "cell_type": "code",
   "execution_count": 17,
   "id": "ad5adb7f",
   "metadata": {},
   "outputs": [
    {
     "data": {
      "text/plain": [
       "dict"
      ]
     },
     "execution_count": 17,
     "metadata": {},
     "output_type": "execute_result"
    }
   ],
   "source": [
    "type(ss)"
   ]
  },
  {
   "cell_type": "code",
   "execution_count": 18,
   "id": "7cb71f5b",
   "metadata": {},
   "outputs": [
    {
     "data": {
      "text/plain": [
       "dict_keys([])"
      ]
     },
     "execution_count": 18,
     "metadata": {},
     "output_type": "execute_result"
    }
   ],
   "source": [
    "ss.keys()"
   ]
  },
  {
   "cell_type": "code",
   "execution_count": 19,
   "id": "56cb48b5",
   "metadata": {},
   "outputs": [],
   "source": [
    "ss[\"count\"]  = 1\n"
   ]
  },
  {
   "cell_type": "code",
   "execution_count": 20,
   "id": "afe7b994",
   "metadata": {},
   "outputs": [
    {
     "data": {
      "text/plain": [
       "1"
      ]
     },
     "execution_count": 20,
     "metadata": {},
     "output_type": "execute_result"
    }
   ],
   "source": [
    "ss.get(\"count\", 2)"
   ]
  },
  {
   "cell_type": "code",
   "execution_count": 27,
   "id": "14fe1bea",
   "metadata": {},
   "outputs": [],
   "source": [
    "x: Optional[Dict[str, Any]] = \"\""
   ]
  },
  {
   "cell_type": "code",
   "execution_count": 28,
   "id": "e6c45813",
   "metadata": {},
   "outputs": [
    {
     "data": {
      "text/plain": [
       "''"
      ]
     },
     "execution_count": 28,
     "metadata": {},
     "output_type": "execute_result"
    }
   ],
   "source": [
    "x"
   ]
  },
  {
   "cell_type": "code",
   "execution_count": 29,
   "id": "f04a056f",
   "metadata": {},
   "outputs": [
    {
     "ename": "AttributeError",
     "evalue": "'str' object has no attribute 'get'",
     "output_type": "error",
     "traceback": [
      "\u001b[1;31m---------------------------------------------------------------------------\u001b[0m",
      "\u001b[1;31mAttributeError\u001b[0m                            Traceback (most recent call last)",
      "Cell \u001b[1;32mIn[29], line 1\u001b[0m\n\u001b[1;32m----> 1\u001b[0m \u001b[43mx\u001b[49m\u001b[38;5;241;43m.\u001b[39;49m\u001b[43mget\u001b[49m(\u001b[38;5;124m\"\u001b[39m\u001b[38;5;124mcount\u001b[39m\u001b[38;5;124m\"\u001b[39m, \u001b[38;5;241m2\u001b[39m)\n",
      "\u001b[1;31mAttributeError\u001b[0m: 'str' object has no attribute 'get'"
     ]
    }
   ],
   "source": [
    "x.get(\"count\", 2)"
   ]
  },
  {
   "cell_type": "code",
   "execution_count": null,
   "id": "5e6f98d9",
   "metadata": {},
   "outputs": [],
   "source": [
    "self.custom_state"
   ]
  }
 ],
 "metadata": {
  "kernelspec": {
   "display_name": "ai_env",
   "language": "python",
   "name": "python3"
  },
  "language_info": {
   "codemirror_mode": {
    "name": "ipython",
    "version": 3
   },
   "file_extension": ".py",
   "mimetype": "text/x-python",
   "name": "python",
   "nbconvert_exporter": "python",
   "pygments_lexer": "ipython3",
   "version": "3.10.16"
  }
 },
 "nbformat": 4,
 "nbformat_minor": 5
}

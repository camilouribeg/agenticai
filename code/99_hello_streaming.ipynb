{
 "cells": [
  {
   "cell_type": "markdown",
   "id": "a236605c",
   "metadata": {},
   "source": [
    "Chat Completion with streaming output"
   ]
  },
  {
   "cell_type": "markdown",
   "id": "3ec1d258",
   "metadata": {},
   "source": [
    "Agent with streaming Runner"
   ]
  },
  {
   "cell_type": "markdown",
   "id": "21570643",
   "metadata": {},
   "source": []
  }
 ],
 "metadata": {
  "language_info": {
   "name": "python"
  }
 },
 "nbformat": 4,
 "nbformat_minor": 5
}

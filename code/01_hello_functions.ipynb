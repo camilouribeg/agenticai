{
 "cells": [
  {
   "cell_type": "code",
   "execution_count": null,
   "id": "6d6b2f64",
   "metadata": {},
   "outputs": [],
   "source": [
    "# https://platform.openai.com/docs/guides/function-calling?api-mode=responses#defining-functions\n",
    "# https://cookbook.openai.com/examples/how_to_call_functions_with_chat_models"
   ]
  },
  {
   "cell_type": "code",
   "execution_count": 59,
   "id": "ed9b24fd",
   "metadata": {},
   "outputs": [
    {
     "data": {
      "text/plain": [
       "True"
      ]
     },
     "execution_count": 59,
     "metadata": {},
     "output_type": "execute_result"
    }
   ],
   "source": [
    "import os \n",
    "import json\n",
    "from dotenv import load_dotenv\n",
    "from openai import AsyncOpenAI, OpenAI\n",
    "from agents import (\n",
    "    Agent,\n",
    "    Runner,\n",
    "    OpenAIChatCompletionsModel,\n",
    "    ModelProvider,\n",
    "    Model,\n",
    "    RunConfig,\n",
    "    set_default_openai_client, \n",
    "    set_default_openai_api,\n",
    "    set_tracing_disabled,\n",
    "    function_tool,\n",
    ")\n",
    "load_dotenv()"
   ]
  },
  {
   "cell_type": "code",
   "execution_count": 60,
   "id": "821371a4",
   "metadata": {},
   "outputs": [],
   "source": [
    "client = AsyncOpenAI(\n",
    "    base_url=\"https://models.inference.ai.azure.com\",\n",
    "    api_key=os.environ[\"GITHUB_TOKEN\"],\n",
    ")\n",
    "\n",
    "client2 = OpenAI(\n",
    "    base_url=\"https://models.inference.ai.azure.com\",\n",
    "    api_key=os.environ[\"GITHUB_TOKEN\"],\n",
    ")"
   ]
  },
  {
   "cell_type": "code",
   "execution_count": 61,
   "id": "addbb6ff",
   "metadata": {},
   "outputs": [],
   "source": [
    "def message(role, content):\n",
    "    return {\"role\": role, \"content\":\n",
    "            [{\n",
    "                \"type\": \"text\",\n",
    "                \"text\": content}]\n",
    "    }\n"
   ]
  },
  {
   "cell_type": "markdown",
   "id": "73592dec",
   "metadata": {},
   "source": [
    "\n",
    "\n",
    "<img src=\"https://cdn.openai.com/API/docs/images/function-calling-diagram-steps.png\" alt=\"Function Calling\" width=\"400px\"/>"
   ]
  },
  {
   "cell_type": "code",
   "execution_count": 62,
   "id": "8ba1ac61",
   "metadata": {},
   "outputs": [],
   "source": [
    "messages = [\n",
    "    message(\"developer\", \"you are a helpful assistant\"),\n",
    "    message(\"user\", \"what is the weather in Sydney?\"),\n",
    "]"
   ]
  },
  {
   "cell_type": "code",
   "execution_count": 63,
   "id": "e0f59a43",
   "metadata": {},
   "outputs": [
    {
     "name": "stdout",
     "output_type": "stream",
     "text": [
      "{\n",
      "  \"content\": \"I don’t have real-time weather data, but you can easily check the current weather in Sydney by using any weather service or app, such as:\\n\\n- [Weather.com](https://www.weather.com/)\\n- [AccuWeather](https://www.accuweather.com/)\\n- [Bureau of Meteorology (Australia)](http://www.bom.gov.au/)\\n\\nYou can also ask your phone's virtual assistant, like Siri, Google Assistant, or Alexa, for the most up-to-date weather information. Let me know if you'd like help with anything else!\",\n",
      "  \"refusal\": null,\n",
      "  \"role\": \"assistant\"\n",
      "}\n"
     ]
    }
   ],
   "source": [
    "\n",
    "completion = await client.chat.completions.create(\n",
    "    model=\"gpt-4o\",\n",
    "    messages=messages)\n",
    "\n",
    "\n",
    "\n",
    "print(completion.choices[0].message.to_json())"
   ]
  },
  {
   "cell_type": "code",
   "execution_count": 64,
   "id": "bcfc76aa",
   "metadata": {},
   "outputs": [],
   "source": [
    "get_weather_function_definition = {\n",
    "    \"type\": \"function\",\n",
    "    \"function\":{\n",
    "        \"name\": \"get_weather\",\n",
    "        \"description\": \"Get the current weather in a given city\",\n",
    "        \"parameters\": {\n",
    "            \"type\": \"object\",\n",
    "            \"properties\": {\n",
    "                \"location\": {\n",
    "                    \"type\": \"string\",\n",
    "                    \"description\": \"The name of the location to get the weather for\",\n",
    "                }\n",
    "            },\n",
    "            \"required\": [\"location\"],\n",
    "            \"additionalProperties\": False,\n",
    "\n",
    "        },\n",
    "    },\n",
    "    \"strict\": True\n",
    "}  \n",
    "\n",
    "tools = [get_weather_function_definition]"
   ]
  },
  {
   "cell_type": "code",
   "execution_count": 65,
   "id": "7b8bc823",
   "metadata": {},
   "outputs": [],
   "source": [
    "def get_weather(location):\n",
    "    # return f\"The weather in {location} is sunny with a high of 25°C.\"\n",
    "    return {\"temperature\": 25, \"condition\": \"sunny\"}"
   ]
  },
  {
   "cell_type": "code",
   "execution_count": 66,
   "id": "5fbeb618",
   "metadata": {},
   "outputs": [],
   "source": [
    "chat_history = messages\n",
    "completion = await client.chat.completions.create(\n",
    "    model=\"gpt-4o\", \n",
    "    messages=chat_history,\n",
    "    tools=tools\n",
    ")"
   ]
  },
  {
   "cell_type": "code",
   "execution_count": 67,
   "id": "8cdde083",
   "metadata": {},
   "outputs": [
    {
     "name": "stdout",
     "output_type": "stream",
     "text": [
      "{\n",
      "  \"id\": \"chatcmpl-BGOdSAgft2XuJOgYOvV8dE07sTDZN\",\n",
      "  \"choices\": [\n",
      "    {\n",
      "      \"finish_reason\": \"tool_calls\",\n",
      "      \"index\": 0,\n",
      "      \"logprobs\": null,\n",
      "      \"message\": {\n",
      "        \"content\": null,\n",
      "        \"refusal\": null,\n",
      "        \"role\": \"assistant\",\n",
      "        \"tool_calls\": [\n",
      "          {\n",
      "            \"id\": \"call_ctvGVkIb0ufFGMFBqCMCGxjn\",\n",
      "            \"function\": {\n",
      "              \"arguments\": \"{\\\"location\\\":\\\"Sydney\\\"}\",\n",
      "              \"name\": \"get_weather\"\n",
      "            },\n",
      "            \"type\": \"function\"\n",
      "          }\n",
      "        ]\n",
      "      },\n",
      "      \"content_filter_results\": {}\n",
      "    }\n",
      "  ],\n",
      "  \"created\": 1743247646,\n",
      "  \"model\": \"gpt-4o-2024-11-20\",\n",
      "  \"object\": \"chat.completion\",\n",
      "  \"system_fingerprint\": \"fp_ded0d14823\",\n",
      "  \"usage\": {\n",
      "    \"completion_tokens\": 15,\n",
      "    \"prompt_tokens\": 71,\n",
      "    \"total_tokens\": 86,\n",
      "    \"completion_tokens_details\": {\n",
      "      \"accepted_prediction_tokens\": 0,\n",
      "      \"audio_tokens\": 0,\n",
      "      \"reasoning_tokens\": 0,\n",
      "      \"rejected_prediction_tokens\": 0\n",
      "    },\n",
      "    \"prompt_tokens_details\": {\n",
      "      \"audio_tokens\": 0,\n",
      "      \"cached_tokens\": 0\n",
      "    }\n",
      "  },\n",
      "  \"prompt_filter_results\": [\n",
      "    {\n",
      "      \"prompt_index\": 0,\n",
      "      \"content_filter_results\": {\n",
      "        \"hate\": {\n",
      "          \"filtered\": false,\n",
      "          \"severity\": \"safe\"\n",
      "        },\n",
      "        \"jailbreak\": {\n",
      "          \"filtered\": false,\n",
      "          \"detected\": false\n",
      "        },\n",
      "        \"self_harm\": {\n",
      "          \"filtered\": false,\n",
      "          \"severity\": \"safe\"\n",
      "        },\n",
      "        \"sexual\": {\n",
      "          \"filtered\": false,\n",
      "          \"severity\": \"safe\"\n",
      "        },\n",
      "        \"violence\": {\n",
      "          \"filtered\": false,\n",
      "          \"severity\": \"safe\"\n",
      "        }\n",
      "      }\n",
      "    }\n",
      "  ]\n",
      "}\n"
     ]
    }
   ],
   "source": [
    "print(completion.to_json())"
   ]
  },
  {
   "cell_type": "code",
   "execution_count": 68,
   "id": "64726090",
   "metadata": {},
   "outputs": [
    {
     "data": {
      "text/plain": [
       "[{'role': 'developer',\n",
       "  'content': [{'type': 'text', 'text': 'you are a helpful assistant'}]},\n",
       " {'role': 'user',\n",
       "  'content': [{'type': 'text', 'text': 'what is the weather in Sydney?'}]},\n",
       " {'content': None,\n",
       "  'refusal': None,\n",
       "  'role': 'assistant',\n",
       "  'tool_calls': [{'id': 'call_ctvGVkIb0ufFGMFBqCMCGxjn',\n",
       "    'function': {'arguments': '{\"location\":\"Sydney\"}', 'name': 'get_weather'},\n",
       "    'type': 'function'}]}]"
      ]
     },
     "execution_count": 68,
     "metadata": {},
     "output_type": "execute_result"
    }
   ],
   "source": [
    "chat_history.append(json.loads(completion.choices[0].message.to_json()))  # append model's function call message\n",
    "chat_history"
   ]
  },
  {
   "cell_type": "code",
   "execution_count": 69,
   "id": "79e3f0ec",
   "metadata": {},
   "outputs": [
    {
     "name": "stdout",
     "output_type": "stream",
     "text": [
      "tool_calls\n",
      "{\n",
      "  \"id\": \"call_ctvGVkIb0ufFGMFBqCMCGxjn\",\n",
      "  \"function\": {\n",
      "    \"arguments\": \"{\\\"location\\\":\\\"Sydney\\\"}\",\n",
      "    \"name\": \"get_weather\"\n",
      "  },\n",
      "  \"type\": \"function\"\n",
      "}\n"
     ]
    }
   ],
   "source": [
    "finish_reason = completion.choices[0].finish_reason\n",
    "print(finish_reason)\n",
    "tool_calls = completion.choices[0].message.tool_calls\n",
    "print(tool_calls[0].to_json())\n",
    "\n"
   ]
  },
  {
   "cell_type": "code",
   "execution_count": 77,
   "id": "6a33da26",
   "metadata": {},
   "outputs": [
    {
     "name": "stdout",
     "output_type": "stream",
     "text": [
      "call_ctvGVkIb0ufFGMFBqCMCGxjn\n",
      "get_weather\n",
      "{\"location\":\"Sydney\"}\n",
      "{'temperature': 25, 'condition': 'sunny'}\n"
     ]
    }
   ],
   "source": [
    "\n",
    "for tool in tool_calls:\n",
    "    print(tool.id)\n",
    "    print(tool.function.name)\n",
    "    print(tool.function.arguments)\n",
    "    function_name = tool.function.name\n",
    "    function_args = json.loads(tool.function.arguments)\n",
    "    tool_call_id = tool.id\n",
    "\n",
    "\n",
    "\n",
    "    # execute the function call and append the results as a ToolMessage in the message history\n",
    "    function_call_results = locals()[function_name](**function_args)\n",
    "    print(function_call_results)\n",
    "    function_call_results_message = {\n",
    "        \"role\": \"tool\",\n",
    "        \"type\": \"function_call_output\",\n",
    "        \"tool_call_id\": tool_call_id,\n",
    "        \"content\": str(function_call_results)\n",
    "    }\n",
    "\n",
    "        #    messages.append({\n",
    "        #     \"role\":\"tool\", \n",
    "        #     \"tool_call_id\":tool_call_id, \n",
    "        #     \"name\": tool_function_name, \n",
    "        #     \"content\":results\n",
    "        # })\n",
    "\n",
    "    chat_history.append(function_call_results_message)"
   ]
  },
  {
   "cell_type": "code",
   "execution_count": 78,
   "id": "1ee142ec",
   "metadata": {},
   "outputs": [
    {
     "data": {
      "text/plain": [
       "\"{'temperature': 25, 'condition': 'sunny'}\""
      ]
     },
     "execution_count": 78,
     "metadata": {},
     "output_type": "execute_result"
    }
   ],
   "source": [
    "str(function_call_results)"
   ]
  },
  {
   "cell_type": "code",
   "execution_count": 79,
   "id": "9c2d7e11",
   "metadata": {},
   "outputs": [
    {
     "data": {
      "text/plain": [
       "[{'role': 'developer',\n",
       "  'content': [{'type': 'text', 'text': 'you are a helpful assistant'}]},\n",
       " {'role': 'user',\n",
       "  'content': [{'type': 'text', 'text': 'what is the weather in Sydney?'}]},\n",
       " {'content': None,\n",
       "  'refusal': None,\n",
       "  'role': 'assistant',\n",
       "  'tool_calls': [{'id': 'call_ctvGVkIb0ufFGMFBqCMCGxjn',\n",
       "    'function': {'arguments': '{\"location\":\"Sydney\"}', 'name': 'get_weather'},\n",
       "    'type': 'function'}]},\n",
       " {'role': 'tool',\n",
       "  'type': 'function_call_output',\n",
       "  'tool_call_id': 'call_ctvGVkIb0ufFGMFBqCMCGxjn',\n",
       "  'content': \"{'temperature': 25, 'condition': 'sunny'}\"}]"
      ]
     },
     "execution_count": 79,
     "metadata": {},
     "output_type": "execute_result"
    }
   ],
   "source": [
    "chat_history"
   ]
  },
  {
   "cell_type": "code",
   "execution_count": 74,
   "id": "345163ae",
   "metadata": {},
   "outputs": [
    {
     "data": {
      "text/plain": [
       "{'role': 'tool',\n",
       " 'type': 'function_call_output',\n",
       " 'tool_call_id': 'call_ctvGVkIb0ufFGMFBqCMCGxjn',\n",
       " 'content': {'temperature': 25, 'condition': 'sunny'}}"
      ]
     },
     "execution_count": 74,
     "metadata": {},
     "output_type": "execute_result"
    }
   ],
   "source": [
    "chat_history.pop(-1)"
   ]
  },
  {
   "cell_type": "code",
   "execution_count": 81,
   "id": "a02e0ff4",
   "metadata": {},
   "outputs": [
    {
     "name": "stdout",
     "output_type": "stream",
     "text": [
      "{\n",
      "  \"content\": \"The current weather in Sydney is 25°C and sunny.\",\n",
      "  \"refusal\": null,\n",
      "  \"role\": \"assistant\"\n",
      "}\n"
     ]
    }
   ],
   "source": [
    "response_2 = await client.chat.completions.create(\n",
    "    model=\"gpt-4o\",\n",
    "    messages=chat_history,\n",
    "    tools=tools\n",
    ")\n",
    "\n",
    "\n",
    "print(response_2.choices[0].message.to_json())\n",
    "\n",
    "chat_history.append(json.loads(response_2.choices[0].message.to_json()))  # append model's function call message"
   ]
  },
  {
   "cell_type": "code",
   "execution_count": 83,
   "id": "0eef4876",
   "metadata": {},
   "outputs": [],
   "source": [
    "chat_history.append(message(\"user\", \"what again in Arabic please?\"))"
   ]
  },
  {
   "cell_type": "code",
   "execution_count": 84,
   "id": "47e19f94",
   "metadata": {},
   "outputs": [
    {
     "data": {
      "text/plain": [
       "[{'role': 'developer',\n",
       "  'content': [{'type': 'text', 'text': 'you are a helpful assistant'}]},\n",
       " {'role': 'user',\n",
       "  'content': [{'type': 'text', 'text': 'what is the weather in Sydney?'}]},\n",
       " {'content': None,\n",
       "  'refusal': None,\n",
       "  'role': 'assistant',\n",
       "  'tool_calls': [{'id': 'call_ctvGVkIb0ufFGMFBqCMCGxjn',\n",
       "    'function': {'arguments': '{\"location\":\"Sydney\"}', 'name': 'get_weather'},\n",
       "    'type': 'function'}]},\n",
       " {'role': 'tool',\n",
       "  'type': 'function_call_output',\n",
       "  'tool_call_id': 'call_ctvGVkIb0ufFGMFBqCMCGxjn',\n",
       "  'content': \"{'temperature': 25, 'condition': 'sunny'}\"},\n",
       " {'content': 'The current weather in Sydney is 25°C and sunny.',\n",
       "  'refusal': None,\n",
       "  'role': 'assistant'},\n",
       " {'role': 'user',\n",
       "  'content': [{'type': 'text', 'text': 'what again in Arabic please?'}]}]"
      ]
     },
     "execution_count": 84,
     "metadata": {},
     "output_type": "execute_result"
    }
   ],
   "source": [
    "chat_history"
   ]
  },
  {
   "cell_type": "code",
   "execution_count": 85,
   "id": "3995bc8c",
   "metadata": {},
   "outputs": [
    {
     "name": "stdout",
     "output_type": "stream",
     "text": [
      "{\n",
      "  \"content\": \"الطقس الحالي في سيدني هو 25 درجة مئوية ومشمس.\",\n",
      "  \"refusal\": null,\n",
      "  \"role\": \"assistant\"\n",
      "}\n"
     ]
    }
   ],
   "source": [
    "response_3 = await client.chat.completions.create(\n",
    "    model=\"gpt-4o\",\n",
    "    messages=chat_history,\n",
    "    tools=tools\n",
    ")\n",
    "\n",
    "\n",
    "print(response_3.choices[0].message.to_json())"
   ]
  },
  {
   "cell_type": "code",
   "execution_count": null,
   "id": "a81767d6",
   "metadata": {},
   "outputs": [],
   "source": []
  }
 ],
 "metadata": {
  "kernelspec": {
   "display_name": "ai_env",
   "language": "python",
   "name": "python3"
  },
  "language_info": {
   "codemirror_mode": {
    "name": "ipython",
    "version": 3
   },
   "file_extension": ".py",
   "mimetype": "text/x-python",
   "name": "python",
   "nbconvert_exporter": "python",
   "pygments_lexer": "ipython3",
   "version": "3.11.11"
  }
 },
 "nbformat": 4,
 "nbformat_minor": 5
}
